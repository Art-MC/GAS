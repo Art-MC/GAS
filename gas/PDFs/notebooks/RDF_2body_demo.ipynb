{
 "cells": [
  {
   "cell_type": "code",
   "execution_count": 1,
   "metadata": {},
   "outputs": [],
   "source": [
    "%load_ext autoreload\n",
    "%autoreload 2"
   ]
  },
  {
   "cell_type": "code",
   "execution_count": 2,
   "metadata": {},
   "outputs": [],
   "source": [
    "from pathlib import Path\n",
    "import numpy as np\n",
    "import cupy as cp\n",
    "import matplotlib.pyplot as plt\n",
    "\n",
    "from gas.PDFs.RDFs import RDF\n"
   ]
  },
  {
   "cell_type": "code",
   "execution_count": 3,
   "metadata": {},
   "outputs": [
    {
     "name": "stdout",
     "output_type": "stream",
     "text": [
      "N devices: 4\n",
      "Using GPU 3\n"
     ]
    },
    {
     "data": {
      "text/plain": [
       "<CUDA Device 3>"
      ]
     },
     "execution_count": 3,
     "metadata": {},
     "output_type": "execute_result"
    }
   ],
   "source": [
    "print(f\"N devices: {cp.cuda.runtime.getDeviceCount()}\")\n",
    "gpu = 3\n",
    "print(f\"Using GPU {gpu}\")\n",
    "cp.cuda.Device(gpu).use()"
   ]
  },
  {
   "cell_type": "markdown",
   "metadata": {},
   "source": [
    "# a Ta"
   ]
  },
  {
   "cell_type": "code",
   "execution_count": 4,
   "metadata": {},
   "outputs": [],
   "source": [
    "file_Ta = Path(\"/home/arthur/Data/PDFs/structures/a_Ta/Ta_sim_model.xyz\")\n",
    "assert file_Ta.exists()\n",
    "material = \"a_Ta\"\n",
    "pbcs = [1,1,1]"
   ]
  },
  {
   "cell_type": "code",
   "execution_count": 5,
   "metadata": {},
   "outputs": [
    {
     "name": "stdout",
     "output_type": "stream",
     "text": [
      "total atoms: 1023999\n"
     ]
    }
   ],
   "source": [
    "class atoms: pass\n",
    "\n",
    "# Define a generator function to access specific rows in the coordinate text file\n",
    "def generate_specific_rows(filePath, userows=[]):\n",
    "    with open(filePath, 'rb') as f:\n",
    "        for i, line in enumerate(f):\n",
    "            if i in userows:\n",
    "                yield line\n",
    "\n",
    "# Get cell dimensions from 2nd row of the coordinate file.  File uses Prismatic input format: https://prism-em.com/docs-inputs/\n",
    "atoms.cell = np.eye(3) * np.loadtxt(\n",
    "    generate_specific_rows(\n",
    "        file_Ta,\n",
    "        userows = [1]),\n",
    "    unpack='true',\n",
    ")\n",
    "\n",
    "# Read in all atomic coordinates, and then keep only (x,y,z) coordinates.\n",
    "atoms.positions = np.genfromtxt(\n",
    "    file_Ta,\n",
    "    skip_header=2,\n",
    "    skip_footer=2,\n",
    ")[:,1:4]\n",
    "\n",
    "print(f\"total atoms: {atoms.positions.shape[0]}\")"
   ]
  },
  {
   "cell_type": "code",
   "execution_count": 8,
   "metadata": {},
   "outputs": [
    {
     "name": "stdout",
     "output_type": "stream",
     "text": [
      "Cell size (A): [268.6053 268.6053 268.6053]\n",
      "Using a max radius of 20 A\n",
      "Num total atoms in sim = 1023999\n",
      "atomic density = 0.0528 atoms / A^3\n",
      "-- done --\n",
      "Total time (h:m:s) 0:00:04.547\n",
      "Center atoms per sec: 225_221.06\n",
      "\n"
     ]
    },
    {
     "data": {
      "image/png": "[encoded data removed]",
      "text/plain": [
       "<Figure size 800x300 with 1 Axes>"
      ]
     },
     "metadata": {},
     "output_type": "display_data"
    }
   ],
   "source": [
    "### The main variable here is batch_size, I have found that 25k is the roughly optimal\n",
    "### value for my GPU. If running out of memory, decrease batch_size,\n",
    "### if things are slow, increase skip\n",
    "### For me, runs with skip=1, r_max=20 in ~ 4.6 seconds, ~225k centers/second\n",
    "\n",
    "batch_size = 25_000\n",
    "\n",
    "dr = 0.05\n",
    "hist_r_max = 20\n",
    "skip = 1\n",
    "\n",
    "rdf = RDF(device=gpu, v=1)\n",
    "r, gr = rdf.rdf(\n",
    "    atoms,\n",
    "    dr=dr,\n",
    "    hist_r_max=hist_r_max,\n",
    "    skip=skip,\n",
    "    pbcs=pbcs,\n",
    "    batch_size= batch_size,\n",
    "    reduced=True,\n",
    ")\n",
    "r, gr = r.get(), gr.get()\n",
    "\n",
    "fig, ax = plt.subplots(figsize=(8,3))\n",
    "ax.plot(r, gr)\n",
    "ax.set_xlabel(\"r (A)\")\n",
    "ax.set_ylabel(\"g(r)\")\n",
    "plt.show()\n"
   ]
  },
  {
   "cell_type": "code",
   "execution_count": null,
   "metadata": {},
   "outputs": [],
   "source": []
  }
 ],
 "metadata": {
  "kernelspec": {
   "display_name": "py4d-ptyml",
   "language": "python",
   "name": "python3"
  },
  "language_info": {
   "codemirror_mode": {
    "name": "ipython",
    "version": 3
   },
   "file_extension": ".py",
   "mimetype": "text/x-python",
   "name": "python",
   "nbconvert_exporter": "python",
   "pygments_lexer": "ipython3",
   "version": "3.12.2"
  }
 },
 "nbformat": 4,
 "nbformat_minor": 2
}
